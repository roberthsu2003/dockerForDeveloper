{
 "cells": [
  {
   "cell_type": "code",
   "execution_count": 1,
   "metadata": {},
   "outputs": [
    {
     "name": "stdout",
     "output_type": "stream",
     "text": [
      "連線\n"
     ]
    }
   ],
   "source": [
    "import psycopg2\n",
    "\n",
    "import os\n",
    "with psycopg2.connect(host=\"localhost\",database=os.environ[\"POSTGRES_DB\"],user=os.environ[\"POSTGRES_USER\"],password=os.environ[\"POSTGRES_PASSWORD\"]) as conn:\n",
    "   print(\"連線\")"
   ]
  },
  {
   "cell_type": "code",
   "execution_count": 1,
   "metadata": {},
   "outputs": [
    {
     "name": "stdout",
     "output_type": "stream",
     "text": [
      "{'BROWSER': '/vscode/vscode-server/bin/linux-arm64/8b3775030ed1a69b13e4f4c628c612102e30a681/bin/helpers/browser.sh',\n",
      " 'CLICOLOR': '1',\n",
      " 'CLICOLOR_FORCE': '1',\n",
      " 'ELECTRON_RUN_AS_NODE': '1',\n",
      " 'FORCE_COLOR': '1',\n",
      " 'GIT_PAGER': 'cat',\n",
      " 'GPG_KEY': 'A035C8C19219BA821ECEA86B64E628F8D684696D',\n",
      " 'HOME': '/home/vscode',\n",
      " 'HOSTNAME': 'c8c7cf3378fe',\n",
      " 'JPY_PARENT_PID': '1079',\n",
      " 'JPY_SESSION_NAME': '/workspaces/lesson1-dfd47f90-67cc-43ff-8fd7-290491874c62.ipynb',\n",
      " 'JUPYTER_PATH': '/home/vscode/.vscode-server/extensions/ms-toolsai.jupyter-2023.11.1100101639-linux-arm64/temp/jupyter',\n",
      " 'LANG': 'C.UTF-8',\n",
      " 'LS_COLORS': '',\n",
      " 'MPLBACKEND': 'module://matplotlib_inline.backend_inline',\n",
      " 'NVM_CD_FLAGS': '',\n",
      " 'NVM_DIR': '/usr/local/share/nvm',\n",
      " 'NVM_RC_VERSION': '',\n",
      " 'NVM_SYMLINK_CURRENT': 'true',\n",
      " 'PAGER': 'cat',\n",
      " 'PATH': '/usr/local/bin:/home/vscode/.local/bin:/vscode/vscode-server/bin/linux-arm64/8b3775030ed1a69b13e4f4c628c612102e30a681/bin/remote-cli:/usr/local/python/current/bin:/usr/local/py-utils/bin:/usr/local/share/nvm/current/bin:/usr/local/bin:/usr/local/python/current/bin:/usr/local/py-utils/bin:/usr/local/share/nvm/current/bin:/usr/local/bin:/usr/local/sbin:/usr/local/bin:/usr/sbin:/usr/bin:/sbin:/bin:/home/vscode/.local/bin:/vscode/vscode-server/bin/linux-arm64/8b3775030ed1a69b13e4f4c628c612102e30a681/bin/remote-cli:/usr/local/python/current/bin:/usr/local/py-utils/bin:/usr/local/share/nvm/current/bin:/usr/local/bin:/usr/local/python/current/bin:/usr/local/py-utils/bin:/usr/local/share/nvm/current/bin:/usr/local/bin:/usr/local/sbin:/usr/local/bin:/usr/sbin:/usr/bin:/sbin:/bin:/home/vscode/.local/bin',\n",
      " 'PIPX_BIN_DIR': '/usr/local/py-utils/bin',\n",
      " 'PIPX_HOME': '/usr/local/py-utils',\n",
      " 'POSTGRES_DB': 'postgres',\n",
      " 'POSTGRES_PASSWORD': 'postgres',\n",
      " 'POSTGRES_USER': 'postgres',\n",
      " 'PROMPT_DIRTRIM': '4',\n",
      " 'PWD': '/vscode/vscode-server/bin/linux-arm64/8b3775030ed1a69b13e4f4c628c612102e30a681',\n",
      " 'PYDEVD_IPYTHON_COMPATIBLE_DEBUGGING': '1',\n",
      " 'PYDEVD_USE_FRAME_EVAL': 'NO',\n",
      " 'PYTHONIOENCODING': 'utf-8',\n",
      " 'PYTHONUNBUFFERED': '1',\n",
      " 'PYTHON_GET_PIP_SHA256': '9cc01665956d22b3bf057ae8287b035827bfd895da235bcea200ab3b811790b6',\n",
      " 'PYTHON_GET_PIP_URL': 'https://github.com/pypa/get-pip/raw/4cfa4081d27285bda1220a62a5ebf5b4bd749cdb/public/get-pip.py',\n",
      " 'PYTHON_PATH': '/usr/local/python/current',\n",
      " 'PYTHON_PIP_VERSION': '23.0.1',\n",
      " 'PYTHON_SETUPTOOLS_VERSION': '65.5.1',\n",
      " 'PYTHON_VERSION': '3.10.13',\n",
      " 'REMOTE_CONTAINERS': 'true',\n",
      " 'REMOTE_CONTAINERS_IPC': '/tmp/vscode-remote-containers-ipc-0667fce2-dee7-4236-aacd-1fba72b6dcbe.sock',\n",
      " 'REMOTE_CONTAINERS_SOCKETS': '[\"/tmp/vscode-ssh-auth-0667fce2-dee7-4236-aacd-1fba72b6dcbe.sock\"]',\n",
      " 'SHELL': '/bin/bash',\n",
      " 'SHLVL': '1',\n",
      " 'SSH_AUTH_SOCK': '/tmp/vscode-ssh-auth-0667fce2-dee7-4236-aacd-1fba72b6dcbe.sock',\n",
      " 'TERM': 'xterm-color',\n",
      " 'USER': 'vscode',\n",
      " 'VSCODE_AGENT_FOLDER': '/home/vscode/.vscode-server',\n",
      " 'VSCODE_AMD_ENTRYPOINT': 'vs/workbench/api/node/extensionHostProcess',\n",
      " 'VSCODE_CWD': '/vscode/vscode-server/bin/linux-arm64/8b3775030ed1a69b13e4f4c628c612102e30a681',\n",
      " 'VSCODE_HANDLES_SIGPIPE': 'true',\n",
      " 'VSCODE_HANDLES_UNCAUGHT_ERRORS': 'true',\n",
      " 'VSCODE_IPC_HOOK_CLI': '/tmp/vscode-ipc-adcd7d9c-2db9-4e22-8805-6c17e488c050.sock',\n",
      " 'VSCODE_L10N_BUNDLE_LOCATION': 'vscode-local:/Users/robert_hsu/.vscode/extensions/ms-ceintl.vscode-language-pack-zh-hant-1.85.2024011709/translations/extensions/vscode.json-language-features.i18n.json',\n",
      " 'VSCODE_NLS_CONFIG': '{\"locale\":\"zh-tw\",\"osLocale\":\"zh-tw\",\"availableLanguages\":{}}',\n",
      " '_': '/bin/cat'}\n"
     ]
    }
   ],
   "source": [
    "import os\n",
    "import pprint\n",
    "\n",
    "env_var = os.environ\n",
    "pprint.pprint(dict(env_var), width = 1)"
   ]
  },
  {
   "cell_type": "code",
   "execution_count": null,
   "metadata": {},
   "outputs": [],
   "source": []
  }
 ],
 "metadata": {
  "kernelspec": {
   "display_name": "Python 3",
   "language": "python",
   "name": "python3"
  },
  "language_info": {
   "codemirror_mode": {
    "name": "ipython",
    "version": 3
   },
   "file_extension": ".py",
   "mimetype": "text/x-python",
   "name": "python",
   "nbconvert_exporter": "python",
   "pygments_lexer": "ipython3",
   "version": "3.10.13"
  }
 },
 "nbformat": 4,
 "nbformat_minor": 2
}

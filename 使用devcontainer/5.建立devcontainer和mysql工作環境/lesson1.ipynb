{
 "cells": [
  {
   "cell_type": "code",
   "execution_count": 1,
   "metadata": {},
   "outputs": [
    {
     "name": "stdout",
     "output_type": "stream",
     "text": [
      "<pymysql.connections.Connection object at 0xffffa041d870>\n",
      "連線成功\n"
     ]
    }
   ],
   "source": [
    "import pymysql.cursors\n",
    "connection = pymysql.connect(host='localhost',\n",
    "                             user='root',\n",
    "                             password='mariadb',\n",
    "                             database='mariadb',\n",
    "                             charset='utf8mb4',                             \n",
    "                             cursorclass=pymysql.cursors.DictCursor)\n",
    "with connection:\n",
    "    print(connection)\n",
    "    print(\"連線成功\")"
   ]
  },
  {
   "cell_type": "code",
   "execution_count": 1,
   "metadata": {},
   "outputs": [],
   "source": [
    "import pymysql.cursors\n",
    "from pymysql import Error\n",
    "\n",
    "def create_connection():\n",
    "    connection = None\n",
    "    try:\n",
    "        connection = pymysql.connect(host='localhost',\n",
    "                                     user='mariadb',\n",
    "                                     password='mariadb',\n",
    "                                     database='mariadb',\n",
    "                                     charset='utf8mb4',\n",
    "                                     cursorclass=pymysql.cursors.DictCursor)\n",
    "    except Error as e:\n",
    "        print(e)\n",
    "    return connection\n",
    "def create_table(conn,create_table_sql):\n",
    "    with conn.cursor() as cursor:\n",
    "        cursor.execute(create_table_sql)\n",
    "    conn.commit()\n",
    "\n",
    "if __name__ == \"__main__\":\n",
    "    #MYSQL AUTO_INCREMENT要有\n",
    "    sql_create_projects_table = \"\"\"\n",
    "            CREATE TABLE IF NOT EXISTS projects(\n",
    "    \t\tid integer PRIMARY KEY AUTO_INCREMENT,\n",
    "    \t\tname text NOT NULL,\n",
    "    \t\tbegin_date text,\n",
    "    \t\tend_date text\n",
    "        );\n",
    "       \"\"\"\n",
    "\n",
    "    sql_create_tasks_table = \"\"\"\n",
    "        CREATE TABLE IF NOT EXISTS task(\n",
    "    \tid integer PRIMARY KEY AUTO_INCREMENT,\n",
    "    \tname text NOT NULL,\n",
    "    \tpriority integer,\n",
    "    \tproject_id integer NOT NULL,\n",
    "    \tstatus_id integer NOT NULL,\n",
    "    \tbegin_date text NOT NULL,\n",
    "    \tend_date text NOT NULL,\n",
    "    \tFOREIGN KEY(project_id) REFERENCES projects(id)\n",
    "        );\n",
    "        \"\"\"\n",
    "\n",
    "    conn = create_connection()\n",
    "    if conn is not None:\n",
    "        #with conn要使用在這裏,呼叫2次create_table後才可以close()\n",
    "        with conn:\n",
    "            create_table(conn,sql_create_projects_table)\n",
    "            create_table(conn,sql_create_tasks_table)\n",
    "\n",
    "    else:\n",
    "        print(\"無法建立資料連線\")"
   ]
  }
 ],
 "metadata": {
  "kernelspec": {
   "display_name": "Python 3",
   "language": "python",
   "name": "python3"
  },
  "language_info": {
   "codemirror_mode": {
    "name": "ipython",
    "version": 3
   },
   "file_extension": ".py",
   "mimetype": "text/x-python",
   "name": "python",
   "nbconvert_exporter": "python",
   "pygments_lexer": "ipython3",
   "version": "3.10.13"
  }
 },
 "nbformat": 4,
 "nbformat_minor": 2
}

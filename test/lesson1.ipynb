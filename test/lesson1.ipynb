{
 "cells": [
  {
   "cell_type": "code",
   "execution_count": null,
   "metadata": {},
   "outputs": [],
   "source": [
    "import google.generativeai as genai\n",
    "import os\n",
    "\n",
    "genai.configure(api_key=os.environ[\"GEMINI_API_KEY\"])"
   ]
  },
  {
   "cell_type": "code",
   "execution_count": null,
   "metadata": {},
   "outputs": [],
   "source": [
    "!pip install ipywidgets"
   ]
  },
  {
   "cell_type": "code",
   "execution_count": null,
   "metadata": {},
   "outputs": [],
   "source": [
    "!pip install --upgrade pip\n"
   ]
  },
  {
   "cell_type": "code",
   "execution_count": 4,
   "metadata": {},
   "outputs": [
    {
     "name": "stdout",
     "output_type": "stream",
     "text": [
      "為什麼企鵝走路總是搖搖擺擺？\n",
      "\n",
      "因為牠們的膝蓋是彎的，走路像是在溜冰一樣！ \n",
      "\n"
     ]
    }
   ],
   "source": [
    "model = genai.GenerativeModel(\"gemini-1.5-flash\")\n",
    "response = model.generate_content(\"請說一個笑話\")\n",
    "print(response.text)"
   ]
  },
  {
   "cell_type": "code",
   "execution_count": 6,
   "metadata": {},
   "outputs": [
    {
     "name": "stdout",
     "output_type": "stream",
     "text": [
      "很遺憾，目前沒有簡單的方法讓學生在沒有信用卡的情況下使用 Gemini 的 fine-tuning 功能。  Gemini 的 fine-tuning 通常需要付費的資源和訂閱，而這些付費機制通常與信用卡連結。\n",
      "\n",
      "以下是一些可能的替代方案，但都各有其限制：\n",
      "\n",
      "* **尋找免費的替代方案：**  看看是否有其他免費的語言模型平台提供類似的功能。  但它們的模型能力和資源可能不及 Gemini。  搜尋是否有開源模型或免費 API，能夠提供有限的 fine-tuning 功能。  \n",
      "* **校內資源：**  嘗試與學校或機構的資訊部門聯繫，了解是否有相關的雲端資源或付費帳戶可供學生使用。  有些機構可能有共享的資源或研究經費可以利用。\n",
      "* **模擬練習：**  使用線上平台或教學資源，提供模擬的 fine-tuning 環境，讓學生了解 fine-tuning 的流程和概念，而不必實際使用付費服務。  這可以讓學生學習相關的知識，卻不涉及實際的付費操作。\n",
      "* **調整教學目標：**  若 fine-tuning 是教學中的重要部分，但學生沒有 access to paid resources，可以調整課程內容，讓學生專注於 fine-tuning 的概念、原理，以及其他相近但不需要付費的方法，例如使用較小的資料集或較簡單的微調技巧。  重點放在理解概念，而不是實際操作。\n",
      "* **結合其他免費工具：**  研究有沒有其他免費或開源的工具，能讓學生在使用免費 API 的情況下，達成類似的微調效果。 例如使用更簡單的模型或不同的參數設定。\n",
      "\n",
      "總之，在沒有信用卡的情況下，要讓學生直接使用 Gemini 的 fine-tuning 功能非常困難。  需要找到合適的替代方案，或重新調整教學內容和目標，才能達成教學目的。\n",
      "\n"
     ]
    }
   ],
   "source": [
    "import os\n",
    "import google.generativeai as genai\n",
    "\n",
    "genai.configure(api_key=os.environ[\"GEMINI_API_KEY\"])\n",
    "\n",
    "# Create the model\n",
    "generation_config = {\n",
    "  \"temperature\": 1,\n",
    "  \"top_p\": 0.95,\n",
    "  \"top_k\": 40,\n",
    "  \"max_output_tokens\": 8192,\n",
    "  \"response_mime_type\": \"text/plain\",\n",
    "}\n",
    "\n",
    "model = genai.GenerativeModel(\n",
    "  model_name=\"gemini-1.5-flash-8b\",\n",
    "  generation_config=generation_config,\n",
    "  system_instruction=\"請使用繁體中文\\n我是一位python講師\",\n",
    ")\n",
    "\n",
    "chat_session = model.start_chat(\n",
    "  history=[\n",
    "    {\n",
    "      \"role\": \"user\",\n",
    "      \"parts\": [\n",
    "        \"請問我現在正在使用tier版本的gemini,我可以選擇使用Gemini 1.5 Flash-8B的模型嗎?\",\n",
    "      ],\n",
    "    },\n",
    "    {\n",
    "      \"role\": \"model\",\n",
    "      \"parts\": [\n",
    "        \"很抱歉，目前沒有辦法在 Tier 版本的 Gemini 中選擇使用 Gemini 1.5 Flash-8B 的模型。  Tier 版本的 Gemini 提供的是特定功能和資源限制，並非一個可供使用者自由選擇模型的平台。  你可能需要升級到其他版本或使用不同的平台才能使用 Gemini 1.5 Flash-8B。\\n\",\n",
    "      ],\n",
    "    },\n",
    "    {\n",
    "      \"role\": \"user\",\n",
    "      \"parts\": [\n",
    "        \"請問我現在正在使用tier版本的gemini,我可以使用fine-tune的功能嗎?\",\n",
    "      ],\n",
    "    },\n",
    "    {\n",
    "      \"role\": \"model\",\n",
    "      \"parts\": [\n",
    "        \"很抱歉，使用 Tier 版本的 Gemini 通常不支援模型微調 (fine-tuning) 功能。  微調需要較大的運算資源和更高的使用權限，而 Tier 版本通常是資源受限的版本。  如果你需要微調模型，你需要升級到支援該功能的版本或使用其他支援微調的平台。\\n\",\n",
    "      ],\n",
    "    },\n",
    "    {\n",
    "      \"role\": \"user\",\n",
    "      \"parts\": [\n",
    "        \"請問我要如何教學生使用gemini fine-tune的功能\\b,學生並沒有信用卡?\\n\",\n",
    "      ],\n",
    "    },\n",
    "    {\n",
    "      \"role\": \"model\",\n",
    "      \"parts\": [\n",
    "        \"學生沒有信用卡，要使用 Gemini 的 fine-tuning 功能，基本上沒有直接可行的方案。  Gemini 的 fine-tuning 通常需要付費的額外資源或訂閱，這些付費機制通常和信用卡綁定。\\n\\n以下是一些可能的替代方案，但也都各有其限制：\\n\\n* **尋找免費的替代方案:**  有些免費的語言模型或平台可能提供類似的功能，但品質和可用性可能不如 Gemini。  你需要搜尋是否有相似的 fine-tuning 服務，或免費的大型語言模型API。\\n* **學校或機構的資源:**  如果你在學校或機構工作，可以嘗試和資訊部門或相關部門聯繫，看看是否有相關的資源或帳戶可以供學生使用，例如共享的付費帳戶或研究經費。\\n* **雲端平台的免費試用:**  有些雲端平台（例如 Google Cloud 或 AWS）會提供免費試用期或一定的免費資源，可以用來測試 fine-tuning。  但這些試用期通常時間有限，而且需要額外的學習成本。\\n* **限制fine-tuning的功能範圍或資料集大小:**  如果教學目標只是讓學生體驗 fine-tuning 的概念，而非實際進行大規模的微調，可以將訓練資料量縮小，或者讓學生使用更簡單的微調方法（例如使用較小的模型或較少的訓練資料）。  這能讓學生了解 fine-tuning 的基本概念，而不必立即面對龐大的資源需求。\\n* **使用模擬工具或教學資源:**  許多機構或線上平台可能提供模擬的 fine-tuning 環境或教學資源，讓學生了解 fine-tuning 的流程和概念，而不必直接使用付費的實際服務。\\n\\n\\n總之，沒有信用卡的情況下，使用 Gemini 的 fine-tuning 功能的可能性很低。  你可能需要考慮使用替代方案，或調整教學目標，才能讓學生完成學習目標。\\n\",\n",
    "      ],\n",
    "    },\n",
    "  ]\n",
    ")\n",
    "\n",
    "response = chat_session.send_message(\"請問我要如何教學生使用gemini fine-tune的功能\\b,學生並沒有信用卡?\\n\")\n",
    "\n",
    "print(response.text)"
   ]
  }
 ],
 "metadata": {
  "kernelspec": {
   "display_name": "Python 3",
   "language": "python",
   "name": "python3"
  },
  "language_info": {
   "codemirror_mode": {
    "name": "ipython",
    "version": 3
   },
   "file_extension": ".py",
   "mimetype": "text/x-python",
   "name": "python",
   "nbconvert_exporter": "python",
   "pygments_lexer": "ipython3",
   "version": "3.11.2"
  }
 },
 "nbformat": 4,
 "nbformat_minor": 2
}
